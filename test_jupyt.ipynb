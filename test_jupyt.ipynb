{
 "cells": [
  {
   "cell_type": "code",
   "execution_count": 8,
   "id": "initial_id",
   "metadata": {
    "collapsed": true,
    "ExecuteTime": {
     "end_time": "2023-12-23T09:01:41.807992Z",
     "start_time": "2023-12-23T09:01:41.805762Z"
    }
   },
   "outputs": [],
   "source": [
    "import pandas as pd"
   ]
  },
  {
   "cell_type": "code",
   "execution_count": 9,
   "outputs": [
    {
     "name": "stdout",
     "output_type": "stream",
     "text": [
      "1.22.3\n"
     ]
    }
   ],
   "source": [
    "import numpy as np\n",
    "print(np.__version__)"
   ],
   "metadata": {
    "collapsed": false,
    "ExecuteTime": {
     "end_time": "2023-12-23T09:01:42.816956Z",
     "start_time": "2023-12-23T09:01:42.813339Z"
    }
   },
   "id": "4e7fc287f66c1b5f"
  },
  {
   "cell_type": "code",
   "execution_count": 5,
   "outputs": [],
   "source": [
    "import torch"
   ],
   "metadata": {
    "collapsed": false,
    "ExecuteTime": {
     "end_time": "2023-12-23T08:44:34.504123Z",
     "start_time": "2023-12-23T08:44:33.675777Z"
    }
   },
   "id": "93098aac89790834"
  },
  {
   "cell_type": "code",
   "execution_count": 10,
   "outputs": [
    {
     "name": "stdout",
     "output_type": "stream",
     "text": [
      "2.2.0.dev20231104\n"
     ]
    }
   ],
   "source": [
    "print(torch.__version__)"
   ],
   "metadata": {
    "collapsed": false,
    "ExecuteTime": {
     "end_time": "2023-12-23T09:01:46.139440Z",
     "start_time": "2023-12-23T09:01:46.135317Z"
    }
   },
   "id": "60c78dc869b96a0d"
  },
  {
   "cell_type": "code",
   "execution_count": 14,
   "outputs": [
    {
     "name": "stdout",
     "output_type": "stream",
     "text": [
      "[1, 2]\n"
     ]
    },
    {
     "data": {
      "text/plain": "  provider_urn                                       full_address       lon  \\\n0     EY387612  Abrahams Care Kids Club ,  Oasis Nursery Schoo...  0.012951   \n1     EY558541  Tree Toppers ,  Willow Grange ,  Henry Street ... -2.412384   \n2     EY550448  The Boulevard ,  22-23 The Boulevard ,    Lond... -0.154696   \n3      2543456  Dinotots Childcare ,  14 Elliott Street ,    B... -1.530657   \n4     EY560354  Cold Ash Pre School ,  The Acland Memorial Hal... -1.268113   \n\n         lat in_uk  \n0  51.514910   yes  \n1  53.766911   yes  \n2  51.440831   yes  \n3  55.112710   yes  \n4  51.430027   yes  ",
      "text/html": "<div>\n<style scoped>\n    .dataframe tbody tr th:only-of-type {\n        vertical-align: middle;\n    }\n\n    .dataframe tbody tr th {\n        vertical-align: top;\n    }\n\n    .dataframe thead th {\n        text-align: right;\n    }\n</style>\n<table border=\"1\" class=\"dataframe\">\n  <thead>\n    <tr style=\"text-align: right;\">\n      <th></th>\n      <th>provider_urn</th>\n      <th>full_address</th>\n      <th>lon</th>\n      <th>lat</th>\n      <th>in_uk</th>\n    </tr>\n  </thead>\n  <tbody>\n    <tr>\n      <th>0</th>\n      <td>EY387612</td>\n      <td>Abrahams Care Kids Club ,  Oasis Nursery Schoo...</td>\n      <td>0.012951</td>\n      <td>51.514910</td>\n      <td>yes</td>\n    </tr>\n    <tr>\n      <th>1</th>\n      <td>EY558541</td>\n      <td>Tree Toppers ,  Willow Grange ,  Henry Street ...</td>\n      <td>-2.412384</td>\n      <td>53.766911</td>\n      <td>yes</td>\n    </tr>\n    <tr>\n      <th>2</th>\n      <td>EY550448</td>\n      <td>The Boulevard ,  22-23 The Boulevard ,    Lond...</td>\n      <td>-0.154696</td>\n      <td>51.440831</td>\n      <td>yes</td>\n    </tr>\n    <tr>\n      <th>3</th>\n      <td>2543456</td>\n      <td>Dinotots Childcare ,  14 Elliott Street ,    B...</td>\n      <td>-1.530657</td>\n      <td>55.112710</td>\n      <td>yes</td>\n    </tr>\n    <tr>\n      <th>4</th>\n      <td>EY560354</td>\n      <td>Cold Ash Pre School ,  The Acland Memorial Hal...</td>\n      <td>-1.268113</td>\n      <td>51.430027</td>\n      <td>yes</td>\n    </tr>\n  </tbody>\n</table>\n</div>"
     },
     "execution_count": 14,
     "metadata": {},
     "output_type": "execute_result"
    }
   ],
   "source": [
    "test=[1,2]\n",
    "print(test)\n",
    "test=pd.read_csv (\"/Users/e5028514/Desktop/norge/data_uk_11000.csv\")\n",
    "\n",
    "test.head()"
   ],
   "metadata": {
    "collapsed": false,
    "ExecuteTime": {
     "end_time": "2023-12-23T09:04:25.710920Z",
     "start_time": "2023-12-23T09:04:25.670159Z"
    }
   },
   "id": "dafd9ac512712d52"
  },
  {
   "cell_type": "code",
   "execution_count": null,
   "outputs": [],
   "source": [],
   "metadata": {
    "collapsed": false
   },
   "id": "5bbd981f9a43ab94"
  }
 ],
 "metadata": {
  "kernelspec": {
   "display_name": "Python 3",
   "language": "python",
   "name": "python3"
  },
  "language_info": {
   "codemirror_mode": {
    "name": "ipython",
    "version": 2
   },
   "file_extension": ".py",
   "mimetype": "text/x-python",
   "name": "python",
   "nbconvert_exporter": "python",
   "pygments_lexer": "ipython2",
   "version": "2.7.6"
  }
 },
 "nbformat": 4,
 "nbformat_minor": 5
}
