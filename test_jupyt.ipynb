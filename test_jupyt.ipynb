{
 "cells": [
  {
   "cell_type": "code",
   "execution_count": 32,
   "outputs": [],
   "source": [
    "import torch\n"
   ],
   "metadata": {
    "collapsed": false,
    "ExecuteTime": {
     "end_time": "2024-01-01T04:18:07.300607Z",
     "start_time": "2024-01-01T04:18:07.297455Z"
    }
   },
   "id": "307bd5c9e2cb9ba"
  },
  {
   "cell_type": "code",
   "execution_count": 35,
   "outputs": [],
   "source": [
    "list_a=[1,2,3,4,5]"
   ],
   "metadata": {
    "collapsed": false,
    "ExecuteTime": {
     "end_time": "2024-01-01T04:18:28.216770Z",
     "start_time": "2024-01-01T04:18:28.210920Z"
    }
   },
   "id": "e9ba526f3ef6703c"
  },
  {
   "cell_type": "code",
   "execution_count": 36,
   "outputs": [
    {
     "data": {
      "text/plain": "list"
     },
     "execution_count": 36,
     "metadata": {},
     "output_type": "execute_result"
    }
   ],
   "source": [
    "#check list_a data type\n",
    "list_b=[1,2,3, 4]\n",
    "#check data type for list\n",
    "type(list_a)\n",
    "type(list_b)"
   ],
   "metadata": {
    "collapsed": false,
    "ExecuteTime": {
     "end_time": "2024-01-01T04:18:36.878433Z",
     "start_time": "2024-01-01T04:18:36.872459Z"
    }
   },
   "id": "bf9d2bb958ea531c"
  },
  {
   "cell_type": "code",
   "execution_count": 37,
   "outputs": [],
   "source": [
    "tensor_a=torch.tensor(list_a+list_b)\n"
   ],
   "metadata": {
    "collapsed": false,
    "ExecuteTime": {
     "end_time": "2024-01-01T04:18:38.456585Z",
     "start_time": "2024-01-01T04:18:38.454239Z"
    }
   },
   "id": "acb6704ddbe875b8"
  },
  {
   "cell_type": "code",
   "execution_count": 38,
   "outputs": [
    {
     "data": {
      "text/plain": "tensor([1, 2, 3, 4, 5, 1, 2, 3, 4])"
     },
     "execution_count": 38,
     "metadata": {},
     "output_type": "execute_result"
    }
   ],
   "source": [
    "tensor_a"
   ],
   "metadata": {
    "collapsed": false,
    "ExecuteTime": {
     "end_time": "2024-01-01T04:18:42.637807Z",
     "start_time": "2024-01-01T04:18:42.634802Z"
    }
   },
   "id": "97d56b1b6cea197b"
  },
  {
   "cell_type": "code",
   "execution_count": 39,
   "outputs": [
    {
     "data": {
      "text/plain": "torch.int64"
     },
     "execution_count": 39,
     "metadata": {},
     "output_type": "execute_result"
    }
   ],
   "source": [
    "tensor_a.dtype"
   ],
   "metadata": {
    "collapsed": false,
    "ExecuteTime": {
     "end_time": "2024-01-01T04:18:50.405172Z",
     "start_time": "2024-01-01T04:18:50.400624Z"
    }
   },
   "id": "84318fe2b46ef725"
  },
  {
   "cell_type": "code",
   "execution_count": 40,
   "outputs": [],
   "source": [
    "tensor_b=torch.stack((tensor_a, tensor_a), dim=0)"
   ],
   "metadata": {
    "collapsed": false,
    "ExecuteTime": {
     "end_time": "2024-01-01T04:19:54.344168Z",
     "start_time": "2024-01-01T04:19:54.338440Z"
    }
   },
   "id": "4c91012563b78242"
  },
  {
   "cell_type": "code",
   "execution_count": 42,
   "outputs": [
    {
     "data": {
      "text/plain": "tensor([[1, 2, 3, 4, 5, 1, 2, 3, 4],\n        [1, 2, 3, 4, 5, 1, 2, 3, 4]])"
     },
     "execution_count": 42,
     "metadata": {},
     "output_type": "execute_result"
    }
   ],
   "source": [
    "tensor_b"
   ],
   "metadata": {
    "collapsed": false,
    "ExecuteTime": {
     "end_time": "2024-01-01T04:20:12.243496Z",
     "start_time": "2024-01-01T04:20:12.224050Z"
    }
   },
   "id": "ad4b306780af317a"
  },
  {
   "cell_type": "code",
   "execution_count": 45,
   "outputs": [],
   "source": [
    "tensor_c=torch.stack((tensor_a, tensor_a), dim=1)"
   ],
   "metadata": {
    "collapsed": false,
    "ExecuteTime": {
     "end_time": "2024-01-01T04:21:20.904913Z",
     "start_time": "2024-01-01T04:21:20.899377Z"
    }
   },
   "id": "dc09c6556b811a1a"
  },
  {
   "cell_type": "code",
   "execution_count": 46,
   "outputs": [
    {
     "data": {
      "text/plain": "torch.Size([9, 2])"
     },
     "execution_count": 46,
     "metadata": {},
     "output_type": "execute_result"
    }
   ],
   "source": [
    "tensor_c.shape"
   ],
   "metadata": {
    "collapsed": false,
    "ExecuteTime": {
     "end_time": "2024-01-01T04:21:32.140447Z",
     "start_time": "2024-01-01T04:21:32.130997Z"
    }
   },
   "id": "7d523af11973632f"
  },
  {
   "cell_type": "code",
   "execution_count": 47,
   "outputs": [
    {
     "data": {
      "text/plain": "torch.Size([2, 9])"
     },
     "execution_count": 47,
     "metadata": {},
     "output_type": "execute_result"
    }
   ],
   "source": [
    "tensor_b.shape"
   ],
   "metadata": {
    "collapsed": false,
    "ExecuteTime": {
     "end_time": "2024-01-01T04:21:52.585842Z",
     "start_time": "2024-01-01T04:21:52.571916Z"
    }
   },
   "id": "5d02aba0b890e645"
  },
  {
   "cell_type": "code",
   "execution_count": 48,
   "outputs": [
    {
     "name": "stdout",
     "output_type": "stream",
     "text": [
      "tensor([[1, 1],\n",
      "        [2, 2],\n",
      "        [3, 3],\n",
      "        [4, 4],\n",
      "        [5, 5],\n",
      "        [1, 1],\n",
      "        [2, 2],\n",
      "        [3, 3],\n",
      "        [4, 4]])\n"
     ]
    }
   ],
   "source": [
    "print(tensor_c)"
   ],
   "metadata": {
    "collapsed": false,
    "ExecuteTime": {
     "end_time": "2024-01-01T04:22:26.644902Z",
     "start_time": "2024-01-01T04:22:26.631646Z"
    }
   },
   "id": "77574a460e341a5e"
  },
  {
   "cell_type": "code",
   "execution_count": 49,
   "outputs": [
    {
     "name": "stdout",
     "output_type": "stream",
     "text": [
      "tensor([[1, 2, 3, 4, 5, 1, 2, 3, 4],\n",
      "        [1, 2, 3, 4, 5, 1, 2, 3, 4]])\n"
     ]
    }
   ],
   "source": [
    "print(tensor_b)"
   ],
   "metadata": {
    "collapsed": false,
    "ExecuteTime": {
     "end_time": "2024-01-01T04:22:41.416483Z",
     "start_time": "2024-01-01T04:22:41.403654Z"
    }
   },
   "id": "5bb4766fbfb95c90"
  },
  {
   "cell_type": "code",
   "execution_count": 51,
   "outputs": [
    {
     "name": "stdout",
     "output_type": "stream",
     "text": [
      "[1 2 3 4 5]\n"
     ]
    }
   ],
   "source": [
    "import numpy as np\n",
    "array_a=np.array([1,2,3,4,5])\n",
    "print(array_a)"
   ],
   "metadata": {
    "collapsed": false,
    "ExecuteTime": {
     "end_time": "2024-01-01T04:25:29.531573Z",
     "start_time": "2024-01-01T04:25:29.527973Z"
    }
   },
   "id": "7ce36c6d88bc521"
  },
  {
   "cell_type": "code",
   "execution_count": 53,
   "outputs": [
    {
     "data": {
      "text/plain": "array([1, 2, 3, 4, 5])"
     },
     "execution_count": 53,
     "metadata": {},
     "output_type": "execute_result"
    }
   ],
   "source": [
    "tensor_a=torch.from_numpy(array_a)\n",
    "(array_a)"
   ],
   "metadata": {
    "collapsed": false,
    "ExecuteTime": {
     "end_time": "2024-01-01T04:30:38.855355Z",
     "start_time": "2024-01-01T04:30:38.850332Z"
    }
   },
   "id": "e164db3991d22aa5"
  },
  {
   "cell_type": "code",
   "execution_count": 54,
   "outputs": [],
   "source": [
    "import torch.nn as nn"
   ],
   "metadata": {
    "collapsed": false,
    "ExecuteTime": {
     "end_time": "2024-01-01T05:23:22.677828Z",
     "start_time": "2024-01-01T05:23:22.615279Z"
    }
   },
   "id": "1dd9188533fbb45a"
  },
  {
   "cell_type": "code",
   "execution_count": 71,
   "outputs": [],
   "source": [
    "input_tensor1=torch.tensor([[1.0,2.0,3.0]])\n",
    "input_tensor0=torch.tensor([1.0,2.0,3.0])\n",
    "input_tensor2=torch.tensor([[[1.0,2.0,3.0]]])"
   ],
   "metadata": {
    "collapsed": false,
    "ExecuteTime": {
     "end_time": "2024-01-01T05:36:25.856253Z",
     "start_time": "2024-01-01T05:36:25.849519Z"
    }
   },
   "id": "f224a2d334f45fd0"
  },
  {
   "cell_type": "code",
   "execution_count": 72,
   "outputs": [
    {
     "name": "stdout",
     "output_type": "stream",
     "text": [
      "torch.Size([3]) torch.Size([1, 3]) torch.Size([1, 1, 3])\n"
     ]
    }
   ],
   "source": [
    "print(input_tensor0.shape,\n",
    "input_tensor1.shape,\n",
    "input_tensor2.shape)"
   ],
   "metadata": {
    "collapsed": false,
    "ExecuteTime": {
     "end_time": "2024-01-01T05:36:28.173035Z",
     "start_time": "2024-01-01T05:36:28.163463Z"
    }
   },
   "id": "ead4d5444dd8bdf9"
  },
  {
   "cell_type": "code",
   "execution_count": 73,
   "outputs": [
    {
     "name": "stdout",
     "output_type": "stream",
     "text": [
      "tensor([[[1., 2., 3.]]])\n"
     ]
    }
   ],
   "source": [
    "print(input_tensor2)"
   ],
   "metadata": {
    "collapsed": false,
    "ExecuteTime": {
     "end_time": "2024-01-01T05:36:29.744541Z",
     "start_time": "2024-01-01T05:36:29.739775Z"
    }
   },
   "id": "8752d69f5da773ee"
  },
  {
   "cell_type": "code",
   "execution_count": 80,
   "outputs": [],
   "source": [
    "linear_layer=nn.Linear(3,2)"
   ],
   "metadata": {
    "collapsed": false,
    "ExecuteTime": {
     "end_time": "2024-01-01T05:37:13.679946Z",
     "start_time": "2024-01-01T05:37:13.674967Z"
    }
   },
   "id": "e4d515f7f7f6e627"
  },
  {
   "cell_type": "code",
   "execution_count": 81,
   "outputs": [],
   "source": [
    "output=linear_layer(input_tensor2)"
   ],
   "metadata": {
    "collapsed": false,
    "ExecuteTime": {
     "end_time": "2024-01-01T05:37:14.935412Z",
     "start_time": "2024-01-01T05:37:14.931788Z"
    }
   },
   "id": "fdc530b66e11b29d"
  },
  {
   "cell_type": "code",
   "execution_count": 82,
   "outputs": [
    {
     "data": {
      "text/plain": "tensor([[[-1.4046,  1.2170]]], grad_fn=<ViewBackward0>)"
     },
     "execution_count": 82,
     "metadata": {},
     "output_type": "execute_result"
    }
   ],
   "source": [
    "output"
   ],
   "metadata": {
    "collapsed": false,
    "ExecuteTime": {
     "end_time": "2024-01-01T05:37:15.705187Z",
     "start_time": "2024-01-01T05:37:15.701793Z"
    }
   },
   "id": "5f6792db92deeda6"
  },
  {
   "cell_type": "code",
   "execution_count": 83,
   "outputs": [
    {
     "data": {
      "text/plain": "Parameter containing:\ntensor([[-0.3931,  0.2684, -0.5399],\n        [ 0.4109,  0.4819,  0.0666]], requires_grad=True)"
     },
     "execution_count": 83,
     "metadata": {},
     "output_type": "execute_result"
    }
   ],
   "source": [
    "linear_layer.weight"
   ],
   "metadata": {
    "collapsed": false,
    "ExecuteTime": {
     "end_time": "2024-01-01T05:59:25.389592Z",
     "start_time": "2024-01-01T05:59:25.366665Z"
    }
   },
   "id": "c8c72d5035bdbf25"
  },
  {
   "cell_type": "code",
   "execution_count": 84,
   "outputs": [
    {
     "data": {
      "text/plain": "Parameter containing:\ntensor([ 0.0713, -0.3574], requires_grad=True)"
     },
     "execution_count": 84,
     "metadata": {},
     "output_type": "execute_result"
    }
   ],
   "source": [
    "linear_layer.bias"
   ],
   "metadata": {
    "collapsed": false,
    "ExecuteTime": {
     "end_time": "2024-01-01T05:59:54.482418Z",
     "start_time": "2024-01-01T05:59:54.467835Z"
    }
   },
   "id": "c56dcb037c2e2fab"
  },
  {
   "cell_type": "code",
   "execution_count": 87,
   "outputs": [],
   "source": [
    "model=nn.Sequential(\n",
    "    nn.Linear(3,2),\n",
    "    nn.Linear(5,1),\n",
    "    nn.Linear(1,1)\n",
    ")"
   ],
   "metadata": {
    "collapsed": false,
    "ExecuteTime": {
     "end_time": "2024-01-01T06:02:34.335693Z",
     "start_time": "2024-01-01T06:02:34.330171Z"
    }
   },
   "id": "50b47554cc6cad52"
  },
  {
   "cell_type": "code",
   "execution_count": 88,
   "outputs": [
    {
     "data": {
      "text/plain": "Sequential(\n  (0): Linear(in_features=3, out_features=2, bias=True)\n  (1): Linear(in_features=5, out_features=1, bias=True)\n  (2): Linear(in_features=1, out_features=1, bias=True)\n)"
     },
     "execution_count": 88,
     "metadata": {},
     "output_type": "execute_result"
    }
   ],
   "source": [
    "model"
   ],
   "metadata": {
    "collapsed": false,
    "ExecuteTime": {
     "end_time": "2024-01-01T06:02:35.935680Z",
     "start_time": "2024-01-01T06:02:35.931608Z"
    }
   },
   "id": "33d8e206a4525bf6"
  },
  {
   "cell_type": "code",
   "execution_count": 89,
   "outputs": [],
   "source": [
    "score=torch.tensor([[0.8]])"
   ],
   "metadata": {
    "collapsed": false,
    "ExecuteTime": {
     "end_time": "2024-01-01T06:50:42.987887Z",
     "start_time": "2024-01-01T06:50:42.974874Z"
    }
   },
   "id": "bce8cd12d120d778"
  },
  {
   "cell_type": "code",
   "execution_count": 90,
   "outputs": [],
   "source": [
    "sigmoid=nn.Sigmoid()"
   ],
   "metadata": {
    "collapsed": false,
    "ExecuteTime": {
     "end_time": "2024-01-01T06:50:54.213919Z",
     "start_time": "2024-01-01T06:50:54.197877Z"
    }
   },
   "id": "112506741feeb808"
  },
  {
   "cell_type": "code",
   "execution_count": 91,
   "outputs": [],
   "source": [
    "probability=sigmoid(score)"
   ],
   "metadata": {
    "collapsed": false,
    "ExecuteTime": {
     "end_time": "2024-01-01T06:51:03.163163Z",
     "start_time": "2024-01-01T06:51:03.144698Z"
    }
   },
   "id": "51e551e67e2fea"
  },
  {
   "cell_type": "code",
   "execution_count": 92,
   "outputs": [
    {
     "name": "stdout",
     "output_type": "stream",
     "text": [
      "tensor([[0.6900]])\n"
     ]
    }
   ],
   "source": [
    "print(probability)"
   ],
   "metadata": {
    "collapsed": false,
    "ExecuteTime": {
     "end_time": "2024-01-01T06:51:14.424043Z",
     "start_time": "2024-01-01T06:51:14.368097Z"
    }
   },
   "id": "ed5234252ea9b3f1"
  },
  {
   "cell_type": "code",
   "execution_count": 93,
   "outputs": [
    {
     "data": {
      "text/plain": "0.6899744868278503"
     },
     "execution_count": 93,
     "metadata": {},
     "output_type": "execute_result"
    }
   ],
   "source": [
    "probability.item()"
   ],
   "metadata": {
    "collapsed": false,
    "ExecuteTime": {
     "end_time": "2024-01-01T06:51:42.195536Z",
     "start_time": "2024-01-01T06:51:42.175664Z"
    }
   },
   "id": "d9c3682086b0e0be"
  },
  {
   "cell_type": "code",
   "execution_count": 94,
   "outputs": [],
   "source": [
    "scores=torch.tensor([[1.0, 1.2, 1.4, 1.5, 1.6, 1.7]])\n",
    "softmax=nn.Softmax( dim=1 )"
   ],
   "metadata": {
    "collapsed": false,
    "ExecuteTime": {
     "end_time": "2024-01-01T06:53:21.667571Z",
     "start_time": "2024-01-01T06:53:21.649774Z"
    }
   },
   "id": "977e82e09979dda0"
  },
  {
   "cell_type": "code",
   "execution_count": 95,
   "outputs": [],
   "source": [
    "probability=softmax(scores)"
   ],
   "metadata": {
    "collapsed": false,
    "ExecuteTime": {
     "end_time": "2024-01-01T06:53:27.051399Z",
     "start_time": "2024-01-01T06:53:27.033519Z"
    }
   },
   "id": "1861eb0755e69509"
  },
  {
   "cell_type": "code",
   "execution_count": 96,
   "outputs": [
    {
     "name": "stdout",
     "output_type": "stream",
     "text": [
      "tensor([[0.1087, 0.1328, 0.1622, 0.1793, 0.1981, 0.2189]])\n"
     ]
    }
   ],
   "source": [
    "print(probability)"
   ],
   "metadata": {
    "collapsed": false,
    "ExecuteTime": {
     "end_time": "2024-01-01T06:53:29.597583Z",
     "start_time": "2024-01-01T06:53:29.582889Z"
    }
   },
   "id": "7a07335254c7e141"
  },
  {
   "cell_type": "code",
   "execution_count": null,
   "outputs": [],
   "source": [],
   "metadata": {
    "collapsed": false
   },
   "id": "7d95f28ac603518f"
  }
 ],
 "metadata": {
  "kernelspec": {
   "display_name": "Python 3",
   "language": "python",
   "name": "python3"
  },
  "language_info": {
   "codemirror_mode": {
    "name": "ipython",
    "version": 2
   },
   "file_extension": ".py",
   "mimetype": "text/x-python",
   "name": "python",
   "nbconvert_exporter": "python",
   "pygments_lexer": "ipython2",
   "version": "2.7.6"
  }
 },
 "nbformat": 4,
 "nbformat_minor": 5
}
