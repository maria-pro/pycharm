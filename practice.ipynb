{
 "cells": [
  {
   "cell_type": "code",
   "execution_count": 4,
   "id": "initial_id",
   "metadata": {
    "collapsed": true,
    "ExecuteTime": {
     "end_time": "2024-01-04T03:48:48.846263Z",
     "start_time": "2024-01-04T03:48:48.841945Z"
    }
   },
   "outputs": [],
   "source": [
    "import torch\n",
    "import numpy as np\n",
    "import torch.nn.functional as F\n",
    "import torch.nn as nn"
   ]
  },
  {
   "cell_type": "code",
   "execution_count": 10,
   "outputs": [],
   "source": [
    "tensor_1=np.array([[1,2,3]])"
   ],
   "metadata": {
    "collapsed": false,
    "ExecuteTime": {
     "end_time": "2024-01-04T03:54:24.973873Z",
     "start_time": "2024-01-04T03:54:24.970371Z"
    }
   },
   "id": "807a616c036e3fbb"
  },
  {
   "cell_type": "code",
   "execution_count": 11,
   "outputs": [],
   "source": [
    "tensor_1=torch.from_numpy(tensor_1)"
   ],
   "metadata": {
    "collapsed": false,
    "ExecuteTime": {
     "end_time": "2024-01-04T03:54:26.774283Z",
     "start_time": "2024-01-04T03:54:26.770458Z"
    }
   },
   "id": "7fa117d89c1a80f5"
  },
  {
   "cell_type": "code",
   "execution_count": 12,
   "outputs": [
    {
     "data": {
      "text/plain": "tensor([[1, 2, 3]])"
     },
     "execution_count": 12,
     "metadata": {},
     "output_type": "execute_result"
    }
   ],
   "source": [
    "tensor_1"
   ],
   "metadata": {
    "collapsed": false,
    "ExecuteTime": {
     "end_time": "2024-01-04T03:54:27.614217Z",
     "start_time": "2024-01-04T03:54:27.607298Z"
    }
   },
   "id": "31e1f2cd9848176a"
  },
  {
   "cell_type": "code",
   "execution_count": 25,
   "outputs": [],
   "source": [
    "tensor_t1=torch.tensor([[1,2,3,5,6,7]])"
   ],
   "metadata": {
    "collapsed": false,
    "ExecuteTime": {
     "end_time": "2024-01-04T04:05:22.790820Z",
     "start_time": "2024-01-04T04:05:22.782348Z"
    }
   },
   "id": "ef85e51ddadb6a3d"
  },
  {
   "cell_type": "code",
   "execution_count": 26,
   "outputs": [
    {
     "data": {
      "text/plain": "tensor([[1, 2, 3, 5, 6, 7]])"
     },
     "execution_count": 26,
     "metadata": {},
     "output_type": "execute_result"
    }
   ],
   "source": [
    "tensor_t1"
   ],
   "metadata": {
    "collapsed": false,
    "ExecuteTime": {
     "end_time": "2024-01-04T04:05:23.482681Z",
     "start_time": "2024-01-04T04:05:23.478057Z"
    }
   },
   "id": "56861360af461a1b"
  },
  {
   "cell_type": "code",
   "execution_count": 47,
   "outputs": [],
   "source": [
    "model=nn.Sequential(\n",
    "    nn.Linear (6, 3),\n",
    "    nn.Softmax(dim=-1)\n",
    ")"
   ],
   "metadata": {
    "collapsed": false,
    "ExecuteTime": {
     "end_time": "2024-01-04T04:25:38.314879Z",
     "start_time": "2024-01-04T04:25:38.309292Z"
    }
   },
   "id": "89709489c31237ef"
  },
  {
   "cell_type": "code",
   "execution_count": 48,
   "outputs": [
    {
     "data": {
      "text/plain": "tensor([[9.4768e-04, 8.9509e-05, 9.9896e-01]], grad_fn=<SoftmaxBackward0>)"
     },
     "execution_count": 48,
     "metadata": {},
     "output_type": "execute_result"
    }
   ],
   "source": [
    "tensor_results_t1=model(tensor_t1.float())\n",
    "tensor_results_t1"
   ],
   "metadata": {
    "collapsed": false,
    "ExecuteTime": {
     "end_time": "2024-01-04T04:25:40.212483Z",
     "start_time": "2024-01-04T04:25:40.207159Z"
    }
   },
   "id": "49bc009b089fcfba"
  },
  {
   "cell_type": "code",
   "execution_count": 61,
   "outputs": [
    {
     "data": {
      "text/plain": "tensor([[0, 0, 1]])"
     },
     "execution_count": 61,
     "metadata": {},
     "output_type": "execute_result"
    }
   ],
   "source": [
    "#three classes num_class=3\n",
    "#correct class is 2 (0,1, !!!!2!!!!)\n",
    "tensor_target1=torch.tensor([[0,0,1]])\n",
    "one_hot_enc=F.one_hot(torch.tensor([2]), num_classes=3)\n",
    "one_hot_enc"
   ],
   "metadata": {
    "collapsed": false,
    "ExecuteTime": {
     "end_time": "2024-01-04T04:34:41.836203Z",
     "start_time": "2024-01-04T04:34:41.826836Z"
    }
   },
   "id": "f9b9c42fb597f661"
  },
  {
   "cell_type": "code",
   "execution_count": 62,
   "outputs": [
    {
     "data": {
      "text/plain": "tensor([0, 1, 0])"
     },
     "execution_count": 62,
     "metadata": {},
     "output_type": "execute_result"
    }
   ],
   "source": [
    "one_hot_enc1=F.one_hot(torch.tensor(1), num_classes=3)\n",
    "one_hot_enc1"
   ],
   "metadata": {
    "collapsed": false,
    "ExecuteTime": {
     "end_time": "2024-01-04T04:34:46.451691Z",
     "start_time": "2024-01-04T04:34:46.447687Z"
    }
   },
   "id": "e2e9035db0cde159"
  },
  {
   "cell_type": "code",
   "execution_count": 68,
   "outputs": [
    {
     "data": {
      "text/plain": "tensor([[1, 0, 0],\n        [0, 1, 0],\n        [0, 0, 1]])"
     },
     "execution_count": 68,
     "metadata": {},
     "output_type": "execute_result"
    }
   ],
   "source": [
    "one_hot_enc_all=F.one_hot(torch.arange(0,3), num_classes=3)\n",
    "one_hot_enc_all"
   ],
   "metadata": {
    "collapsed": false,
    "ExecuteTime": {
     "end_time": "2024-01-04T06:15:43.953739Z",
     "start_time": "2024-01-04T06:15:43.948738Z"
    }
   },
   "id": "551b6aded7eec54"
  },
  {
   "cell_type": "code",
   "execution_count": 63,
   "outputs": [],
   "source": [
    "loss_f1=nn.CrossEntropyLoss()\n",
    "tensor_results_t1.shape\n",
    "output1=loss_f1(tensor_results_t1.double(), one_hot_enc.double())"
   ],
   "metadata": {
    "collapsed": false,
    "ExecuteTime": {
     "end_time": "2024-01-04T04:34:56.189715Z",
     "start_time": "2024-01-04T04:34:56.181697Z"
    }
   },
   "id": "75540fb492b26ef0"
  },
  {
   "cell_type": "code",
   "execution_count": 64,
   "outputs": [
    {
     "data": {
      "text/plain": "torch.Size([1, 3])"
     },
     "execution_count": 64,
     "metadata": {},
     "output_type": "execute_result"
    }
   ],
   "source": [
    "one_hot_enc.shape"
   ],
   "metadata": {
    "collapsed": false,
    "ExecuteTime": {
     "end_time": "2024-01-04T04:35:05.657168Z",
     "start_time": "2024-01-04T04:35:05.650873Z"
    }
   },
   "id": "ddd9ba4ac6bbea6d"
  },
  {
   "cell_type": "code",
   "execution_count": null,
   "outputs": [],
   "source": [],
   "metadata": {
    "collapsed": false
   },
   "id": "25914ed2b77ed131"
  }
 ],
 "metadata": {
  "kernelspec": {
   "display_name": "Python 3",
   "language": "python",
   "name": "python3"
  },
  "language_info": {
   "codemirror_mode": {
    "name": "ipython",
    "version": 2
   },
   "file_extension": ".py",
   "mimetype": "text/x-python",
   "name": "python",
   "nbconvert_exporter": "python",
   "pygments_lexer": "ipython2",
   "version": "2.7.6"
  }
 },
 "nbformat": 4,
 "nbformat_minor": 5
}
